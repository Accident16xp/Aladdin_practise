{
 "cells": [
  {
   "cell_type": "code",
   "execution_count": 2,
   "id": "5dbfea68",
   "metadata": {},
   "outputs": [],
   "source": [
    "import numpy as numpy\n",
    "\n",
    "class KNerarestNeighbor():\n",
    "    def __init__(self,k):\n",
    "       self.k=k\n",
    "\n",
    "    def train(self,X,y):\n",
    "        self.X_train=X_train\n",
    "        self.y_train=y_train\n",
    "\n",
    "    def predict(self,X_test):\n",
    "        distances=self.compute_distance(X_test)\n",
    "        return self.predict_labels(distances)\n",
    "\n",
    "\n",
    "    def compute_distance(self,X_test):\n",
    "        #naive ways\n",
    "        num_test=X_train.shape[0]\n",
    "        num_train=self.X_test.shape[0]\n",
    "        distances=np.zeros((num_test,num_train))\n",
    "\n",
    "        for i in range (num_test):\n",
    "            for j in range(num_test):\n",
    "                distances[i,j]=np.sqrt(np.sum((X_test[i,:]-self.X_train[j,:]))**2)\n",
    "        return distances\n",
    "\n",
    "    def predict_labels(self,distances):\n",
    "        num_test=distances.shape[0]\n",
    "        y_pred=np.zeros(num_test)\n",
    "        \n",
    "        for i in range(num_test):\n",
    "            y_indices=np.argsort(distances[i,:])\n",
    "\n",
    "\n",
    "\n",
    "\n"
   ]
  },
  {
   "cell_type": "code",
   "execution_count": 5,
   "id": "08d35171",
   "metadata": {},
   "outputs": [],
   "source": [
    "import numpy as np\n",
    "distances=np.array([1,5,-3,-10])"
   ]
  },
  {
   "cell_type": "code",
   "execution_count": 6,
   "id": "90fe02b9",
   "metadata": {},
   "outputs": [
    {
     "data": {
      "text/plain": [
       "array([3, 2, 0, 1], dtype=int64)"
      ]
     },
     "execution_count": 6,
     "metadata": {},
     "output_type": "execute_result"
    }
   ],
   "source": [
    "np.argsort(distances)"
   ]
  },
  {
   "cell_type": "code",
   "execution_count": 8,
   "id": "fa635ec1",
   "metadata": {},
   "outputs": [],
   "source": [
    "classes=np.array([1,1,4,5,4,5,3,3,3])"
   ]
  },
  {
   "cell_type": "code",
   "execution_count": 9,
   "id": "1f7a4a92",
   "metadata": {},
   "outputs": [
    {
     "data": {
      "text/plain": [
       "array([0, 2, 0, 3, 2, 2], dtype=int64)"
      ]
     },
     "execution_count": 9,
     "metadata": {},
     "output_type": "execute_result"
    }
   ],
   "source": [
    "np.bincount(classes)"
   ]
  },
  {
   "cell_type": "code",
   "execution_count": 20,
   "id": "33a21935",
   "metadata": {},
   "outputs": [],
   "source": [
    "import numpy as numpy\n",
    "\n",
    "class KNerarestNeighbor():\n",
    "    def __init__(self,k):\n",
    "       self.k=k\n",
    "\n",
    "    def train(self,X,y):\n",
    "        self.X_train=X\n",
    "        self.y_train=y\n",
    "\n",
    "    def predict(self,X_test,num_loops=2):\n",
    "        if num_test==2:\n",
    "            distances=self.compute_distance(X_test)\n",
    "            return self.predict_labels(distances)\n",
    "        if num_loops==1:\n",
    "            distances=self.compute_distance_one_loop(X_test)\n",
    "            return self.predict_labels(distances)\n",
    "        else:\n",
    "            distances=self.compute_distance_vectorized(X_test)\n",
    "\n",
    "\n",
    "\n",
    "    def compute_distance_one_loop(self,X_test):\n",
    "        num_test=X_test.shape[0]\n",
    "        num_train=self.X_train.shape[0]\n",
    "        distances=np.zeros((num_test,num_train))\n",
    "\n",
    "        for i in range(num_test):\n",
    "            distances[i,:]=np.sqrt(np.sum(((self.X_train-X_test[i,:])**2),axis=1))\n",
    "            #按行相加，每一行是一个特征\n",
    "            return distances\n",
    "            \n",
    "\n",
    "\n",
    "    def compute_distance_two_loop(self,X_test):\n",
    "        #naive ways\n",
    "        num_test=X_test.shape[0]\n",
    "        num_train=self.X_train.shape[0]\n",
    "        distances=np.zeros((num_test,num_train))\n",
    "\n",
    "        for i in range (num_test):\n",
    "            for j in range(num_test):\n",
    "                distances[i,j]=np.sqrt(np.sum((X_test[i,:]-self.X_train[j,:])**2))\n",
    "        return distances\n",
    "\n",
    "\n",
    "    #train,test\n",
    "    #(train-test)^2 =train^2-2train*test+test^2\n",
    "\n",
    "    def predict_labels(self,distances):\n",
    "        num_test=distances.shape[0]\n",
    "        y_pred=np.zeros(num_test)\n",
    "        \n",
    "        for i in range(num_test):\n",
    "            y_indices=np.argsort(distances[i,:])\n",
    "            k_closest_classes=self.y_train[y_indices[:self.k]].astype(int)\n",
    "            y_pred[i]=np.argmax(np.bincount(k_closest_classes))\n",
    "            #bincount直接记录的是自然数的个数，从0开始\n",
    "\n",
    "        return y_pred\n",
    "\n",
    "\n",
    "\n",
    "\n"
   ]
  },
  {
   "cell_type": "code",
   "execution_count": 21,
   "id": "557992c3",
   "metadata": {},
   "outputs": [
    {
     "name": "stdout",
     "output_type": "stream",
     "text": [
      "Thedifference is :0.0\n"
     ]
    }
   ],
   "source": [
    "        #X=np.loadtxt('')\n",
    "        #y=np.loadtxt('')\n",
    "        train=np.random.randn(1,4)\n",
    "        test=np.random.randn(1,4)\n",
    "        num_examples=train.shape[0]\n",
    "\n",
    "        distance=np.sqrt(np.sum(test**2,axis=1,keepdims=True)+np.sum(train**2,keepdims=True,axis=1)-2*np.sum(test*train))\n",
    "        #keepdims防止python改变格式，如将（1，1）变成（1，）\n",
    "        KNN=KNerarestNeighbor(k=3)\n",
    "        KNN.train(train,np.zeros((num_examples)))\n",
    "        corr_distance=KNN.compute_distance_two_loop(test)\n",
    "        \n",
    "        print(f'Thedifference is :{np.sum(np.sum((corr_distance-distance)**2))}')\n",
    "        #y_pred=KNN.predict_labels(X)\n",
    "\n",
    "        #print(f'Accuracy:{sum(y_pred==y)/y.shape[0]}')"
   ]
  },
  {
   "cell_type": "code",
   "execution_count": 24,
   "id": "127a4a90",
   "metadata": {},
   "outputs": [
    {
     "name": "stdout",
     "output_type": "stream",
     "text": [
      "Thedifference is :106.15841309882016\n"
     ]
    }
   ],
   "source": [
    "        #X=np.loadtxt('')\n",
    "        #y=np.loadtxt('')\n",
    "        train=np.random.randn(10,4)\n",
    "        test=np.random.randn(1,4)\n",
    "        num_examples=train.shape[0]\n",
    "\n",
    "        distance=np.sqrt(np.sum(test**2,axis=1,keepdims=True)+np.sum(train**2,keepdims=True,axis=1).T-2*np.dot(test,train.T))\n",
    "        #keepdims防止python改变格式，如将（1，1）变成（1，）\n",
    "        KNN=KNerarestNeighbor(k=3)\n",
    "        KNN.train(train,np.zeros((num_examples)))\n",
    "        corr_distance=KNN.compute_distance_two_loop(test)\n",
    "        \n",
    "        print(f'Thedifference is :{np.sum(np.sum((corr_distance-distance)**2))}')\n",
    "        #y_pred=KNN.predict_labels(X)\n",
    "\n",
    "        #print(f'Accuracy:{sum(y_pred==y)/y.shape[0]}')"
   ]
  },
  {
   "cell_type": "code",
   "execution_count": null,
   "id": "36377033",
   "metadata": {},
   "outputs": [],
   "source": []
  }
 ],
 "metadata": {
  "kernelspec": {
   "display_name": "Python 3",
   "language": "python",
   "name": "python3"
  },
  "language_info": {
   "codemirror_mode": {
    "name": "ipython",
    "version": 3
   },
   "file_extension": ".py",
   "mimetype": "text/x-python",
   "name": "python",
   "nbconvert_exporter": "python",
   "pygments_lexer": "ipython3",
   "version": "3.8.8"
  }
 },
 "nbformat": 4,
 "nbformat_minor": 5
}
